{
 "cells": [
  {
   "cell_type": "markdown",
   "id": "75ae3c05-b823-4cc3-9c8c-c08a59c95c9c",
   "metadata": {},
   "source": [
    "# Stratune project session with 10Analytics\n",
    "## Web scraping data from competitor website (Amazon)\n",
    "--Obejective: Identify and Procure Electric Guitars Listed on Amazon that are:\n",
    "    -- Discounted or offered with free delivery\n",
    "    -- Popularly available and not at risk of running out of stock\n",
    "    -- Sold at price that allows at least a 30% markup when reselling"
   ]
  },
  {
   "cell_type": "code",
   "execution_count": null,
   "id": "a1e02628-529b-47a6-a512-477d2120b695",
   "metadata": {},
   "outputs": [],
   "source": []
  },
  {
   "cell_type": "code",
   "execution_count": null,
   "id": "f3219b61-f0c6-433d-b26c-d684e0f3c8ce",
   "metadata": {},
   "outputs": [],
   "source": []
  },
  {
   "cell_type": "code",
   "execution_count": null,
   "id": "166d6e76-8796-42d6-b2fc-667efc718d27",
   "metadata": {},
   "outputs": [],
   "source": []
  },
  {
   "cell_type": "code",
   "execution_count": null,
   "id": "91dd23c5-0110-4783-8177-bfaf034529e5",
   "metadata": {},
   "outputs": [],
   "source": []
  },
  {
   "cell_type": "code",
   "execution_count": null,
   "id": "d8c55482-44f4-4d7d-945e-7fa07524e174",
   "metadata": {},
   "outputs": [],
   "source": []
  }
 ],
 "metadata": {
  "kernelspec": {
   "display_name": "Python [conda env:base] *",
   "language": "python",
   "name": "conda-base-py"
  },
  "language_info": {
   "codemirror_mode": {
    "name": "ipython",
    "version": 3
   },
   "file_extension": ".py",
   "mimetype": "text/x-python",
   "name": "python",
   "nbconvert_exporter": "python",
   "pygments_lexer": "ipython3",
   "version": "3.12.7"
  }
 },
 "nbformat": 4,
 "nbformat_minor": 5
}
