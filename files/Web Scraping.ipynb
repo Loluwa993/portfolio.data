{
 "cells": [
  {
   "cell_type": "markdown",
   "id": "29d7d229",
   "metadata": {},
   "source": [
    "# Stratune project session with 10Analytics\n",
    "## Web scraping data from competitor website (Amazon)\n",
    "### --Obejective: Identify and Procure Electric Guitars Listed on Amazon that are:\n",
    "#### -- Discounted or offered with free delivery\n",
    "#### -- Popularly available and not at risk of running out of stock\n",
    "#### -- Sold at price that allows at least a 30% markup when reselling"
   ]
  },
  {
   "cell_type": "markdown",
   "id": "2bf1fd95",
   "metadata": {},
   "source": []
  }
 ],
 "metadata": {
  "language_info": {
   "name": "python"
  }
 },
 "nbformat": 4,
 "nbformat_minor": 5
}
